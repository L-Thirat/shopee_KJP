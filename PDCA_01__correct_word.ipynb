{
  "nbformat": 4,
  "nbformat_minor": 0,
  "metadata": {
    "colab": {
      "name": "PDCA_01__correct_word.ipynb",
      "provenance": []
    },
    "kernelspec": {
      "name": "python3",
      "display_name": "Python 3"
    }
  },
  "cells": [
    {
      "cell_type": "code",
      "metadata": {
        "colab": {
          "base_uri": "https://localhost:8080/"
        },
        "id": "D2tc5CiwpYPJ",
        "outputId": "486c5876-b08c-44c8-9b2f-20dcad1cd0dd"
      },
      "source": [
        "!git clone https://github.com/L-Thirat/shopee_KJP.git"
      ],
      "execution_count": 3,
      "outputs": [
        {
          "output_type": "stream",
          "text": [
            "Cloning into 'shopee_KJP'...\n",
            "remote: Enumerating objects: 4, done.\u001b[K\n",
            "remote: Counting objects: 100% (4/4), done.\u001b[K\n",
            "remote: Compressing objects: 100% (4/4), done.\u001b[K\n",
            "remote: Total 98 (delta 0), reused 1 (delta 0), pack-reused 94\u001b[K\n",
            "Unpacking objects: 100% (98/98), done.\n"
          ],
          "name": "stdout"
        }
      ]
    },
    {
      "cell_type": "code",
      "metadata": {
        "colab": {
          "base_uri": "https://localhost:8080/"
        },
        "id": "Y8GdE3Wwp0wI",
        "outputId": "ab5cad45-16fe-4d6c-8498-2b54e40664dd"
      },
      "source": [
        "cd shopee_KJP/"
      ],
      "execution_count": 4,
      "outputs": [
        {
          "output_type": "stream",
          "text": [
            "/content/shopee_KJP\n"
          ],
          "name": "stdout"
        }
      ]
    },
    {
      "cell_type": "code",
      "metadata": {
        "id": "OGhm3FIbopca"
      },
      "source": [
        "import pandas as pd\r\n",
        "import numpy as np\r\n",
        "\r\n",
        "dataset = \"data/train.csv/train.csv\"\r\n",
        "\r\n",
        "pd.set_option('display.max_columns', 20)\r\n",
        "\r\n",
        "cols = [\"raw_address\", \"POI/street\"]\r\n",
        "\r\n",
        "df = pd.read_csv(dataset, usecols=cols, nrows=20)\r\n",
        "split_data = df[\"POI/street\"].str.split(\"/\", n=1, expand=True)\r\n",
        "df[\"POI\"] = split_data[0]\r\n",
        "df[\"street\"] = split_data[1]"
      ],
      "execution_count": 6,
      "outputs": []
    },
    {
      "cell_type": "code",
      "metadata": {
        "colab": {
          "base_uri": "https://localhost:8080/"
        },
        "id": "5bflbkWLp8wr",
        "outputId": "f83c4de4-a1e0-4b57-de75-0c3571e1513e"
      },
      "source": [
        "# print(df[[\"raw_address\", \"POI\", \"street\"]])\r\n",
        "df['POI_in'] = df.apply(lambda x: x[\"POI\"] in x[\"raw_address\"], axis=1)\r\n",
        "df['street_in'] = df.apply(lambda x: x[\"street\"] in x[\"raw_address\"], axis=1)\r\n",
        "\r\n",
        "df_not_match_POI = df.loc[((df[\"POI_in\"] == False) & (df[\"POI\"] != \"\"))]\r\n",
        "print(df_not_match_POI[[\"raw_address\", \"POI\"]])\r\n"
      ],
      "execution_count": 23,
      "outputs": [
        {
          "output_type": "stream",
          "text": [
            "                                       raw_address                  POI\n",
            "10  cikahuripan sd neg boj 02 klap boj, no 5 16877  sd negeri bojong 02\n",
            "11                                    yaya atohar,   yayasan atohariyah\n"
          ],
          "name": "stdout"
        }
      ]
    }
  ]
}